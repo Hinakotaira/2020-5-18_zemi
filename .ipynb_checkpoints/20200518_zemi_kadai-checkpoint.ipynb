{
 "cells": [
  {
   "cell_type": "code",
   "execution_count": 6,
   "metadata": {},
   "outputs": [],
   "source": [
    "import pandas as pd\n",
    "\n",
    "kadai2X = pd.read_csv('kadai2X.csv')\n",
    "kadai2y = pd.read_csv('kadai2y.csv')"
   ]
  },
  {
   "cell_type": "code",
   "execution_count": 11,
   "metadata": {},
   "outputs": [
    {
     "name": "stdout",
     "output_type": "stream",
     "text": [
      "Index(['count_1', 'routine_flg', 'period', 'campaign_name_入会費半額',\n",
      "       'campaign_name_入会費無料', 'class_name_オールタイム', 'class_name_デイタイム',\n",
      "       'gender_F'],\n",
      "      dtype='object')\n",
      "(2104, 8)\n",
      "   is_deleted\n",
      "0           1\n",
      "1           1\n",
      "2           1\n",
      "3           1\n",
      "4           1\n"
     ]
    }
   ],
   "source": [
    "print(\"{}\".format(kadai2X.keys()))\n",
    "print(\"{}\".format(kadai2X.shape))\n",
    "print(\"{}\".format(kadai2y[:5]))"
   ]
  },
  {
   "cell_type": "code",
   "execution_count": 18,
   "metadata": {},
   "outputs": [
    {
     "name": "stdout",
     "output_type": "stream",
     "text": [
      "Index(['is_deleted'], dtype='object')\n"
     ]
    }
   ],
   "source": [
    "print(\"{}\".format(kadai2y.keys()))"
   ]
  },
  {
   "cell_type": "code",
   "execution_count": 10,
   "metadata": {
    "scrolled": true
   },
   "outputs": [
    {
     "name": "stdout",
     "output_type": "stream",
     "text": [
      "(1578, 8)\n",
      "(526, 1)\n"
     ]
    }
   ],
   "source": [
    "from sklearn.model_selection import train_test_split\n",
    "X_train, X_test, y_train, y_test = train_test_split(kadai2X, kadai2y, random_state = 1)\n",
    "\n",
    "print(\"{}\".format(X_train.shape)) # \n",
    "print(\"{}\".format(y_test.shape)) #"
   ]
  },
  {
   "cell_type": "markdown",
   "metadata": {},
   "source": [
    "### 前処理: 正規化"
   ]
  },
  {
   "cell_type": "code",
   "execution_count": 13,
   "metadata": {},
   "outputs": [
    {
     "name": "stdout",
     "output_type": "stream",
     "text": [
      "Min: count_1        1\n",
      "routine_flg    0\n",
      "period         0\n",
      "dtype: int64\n",
      "Max: count_1        14\n",
      "routine_flg     1\n",
      "period         46\n",
      "dtype: int64\n"
     ]
    }
   ],
   "source": [
    "print(\"Min: {}\".format(X_train.min(axis=0) [:3])) # 正規化前の最小・最大値\n",
    "print(\"Max: {}\".format(X_train.max(axis=0) [:3])) # 最初の 3 項目のみ表示"
   ]
  },
  {
   "cell_type": "code",
   "execution_count": 14,
   "metadata": {},
   "outputs": [
    {
     "name": "stdout",
     "output_type": "stream",
     "text": [
      "Min: [0. 0. 0.]\n",
      "Max: [1. 1. 1.]\n"
     ]
    },
    {
     "name": "stderr",
     "output_type": "stream",
     "text": [
      "C:\\Users\\81808\\Anaconda3\\lib\\site-packages\\sklearn\\preprocessing\\data.py:334: DataConversionWarning: Data with input dtype int64 were all converted to float64 by MinMaxScaler.\n",
      "  return self.partial_fit(X, y)\n"
     ]
    }
   ],
   "source": [
    "from sklearn.preprocessing import MinMaxScaler\n",
    "scaler = MinMaxScaler()\n",
    "X_train_s = scaler.fit(X_train).transform(X_train) # X_train の正規化\n",
    "print(\"Min: {}\".format(X_train_s.min(axis=0)[:3])) # 正規化後の最小値\n",
    "print(\"Max: {}\".format(X_train_s.max(axis=0)[:3])) # 正規化後の最大値\n",
    "\n",
    "X_test_s = scaler.transform(X_test) # X_test の正規化"
   ]
  },
  {
   "cell_type": "markdown",
   "metadata": {},
   "source": [
    "### ロジスティック回帰"
   ]
  },
  {
   "cell_type": "code",
   "execution_count": 15,
   "metadata": {},
   "outputs": [
    {
     "name": "stderr",
     "output_type": "stream",
     "text": [
      "C:\\Users\\81808\\Anaconda3\\lib\\site-packages\\sklearn\\linear_model\\logistic.py:433: FutureWarning: Default solver will be changed to 'lbfgs' in 0.22. Specify a solver to silence this warning.\n",
      "  FutureWarning)\n",
      "C:\\Users\\81808\\Anaconda3\\lib\\site-packages\\sklearn\\utils\\validation.py:761: DataConversionWarning: A column-vector y was passed when a 1d array was expected. Please change the shape of y to (n_samples, ), for example using ravel().\n",
      "  y = column_or_1d(y, warn=True)\n"
     ]
    }
   ],
   "source": [
    "from sklearn.linear_model import LogisticRegression as LR \n",
    "\n",
    "#トレーニング\n",
    "logreg = LR(C=1, penalty=\"l1\").fit(X_train_s, y_train) \n",
    "\n",
    "#テスト\n",
    "y_pred = logreg.predict(X_test_s) "
   ]
  },
  {
   "cell_type": "code",
   "execution_count": 21,
   "metadata": {},
   "outputs": [
    {
     "name": "stdout",
     "output_type": "stream",
     "text": [
      "[[-12.44972401  -4.9612464  -10.55802813   0.69630177   0.27501314\n",
      "    0.          -0.02505639   0.        ]]\n"
     ]
    }
   ],
   "source": [
    "print(logreg.coef_)"
   ]
  },
  {
   "cell_type": "markdown",
   "metadata": {},
   "source": [
    "### 混同行列"
   ]
  },
  {
   "cell_type": "code",
   "execution_count": 16,
   "metadata": {},
   "outputs": [
    {
     "name": "stdout",
     "output_type": "stream",
     "text": [
      "[[255  11]\n",
      " [ 27 233]]\n"
     ]
    }
   ],
   "source": [
    "from sklearn.metrics import confusion_matrix as CM\n",
    "print(\"{}\".format(CM(y_test, y_pred))) # 混同行列 # is_deleted = 0: 継続、1: 退会（教師データ）"
   ]
  },
  {
   "cell_type": "code",
   "execution_count": 20,
   "metadata": {},
   "outputs": [
    {
     "name": "stdout",
     "output_type": "stream",
     "text": [
      "              precision    recall  f1-score   support\n",
      "\n",
      "           0       0.90      0.96      0.93       266\n",
      "           1       0.95      0.90      0.92       260\n",
      "\n",
      "   micro avg       0.93      0.93      0.93       526\n",
      "   macro avg       0.93      0.93      0.93       526\n",
      "weighted avg       0.93      0.93      0.93       526\n",
      "\n"
     ]
    }
   ],
   "source": [
    "from sklearn.metrics import classification_report as CR\n",
    "print(\"{}\".format(CR(y_test, y_pred)))"
   ]
  },
  {
   "cell_type": "code",
   "execution_count": null,
   "metadata": {},
   "outputs": [],
   "source": []
  }
 ],
 "metadata": {
  "kernelspec": {
   "display_name": "Python 3",
   "language": "python",
   "name": "python3"
  },
  "language_info": {
   "codemirror_mode": {
    "name": "ipython",
    "version": 3
   },
   "file_extension": ".py",
   "mimetype": "text/x-python",
   "name": "python",
   "nbconvert_exporter": "python",
   "pygments_lexer": "ipython3",
   "version": "3.7.3"
  }
 },
 "nbformat": 4,
 "nbformat_minor": 2
}
